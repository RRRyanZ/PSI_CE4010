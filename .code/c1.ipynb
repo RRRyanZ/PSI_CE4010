{
 "cells": [
  {
   "cell_type": "code",
   "execution_count": 1,
   "metadata": {
    "scrolled": true
   },
   "outputs": [
    {
     "name": "stdout",
     "output_type": "stream",
     "text": [
      "[76, 91, 4, 3, 5, 9]\n"
     ]
    }
   ],
   "source": [
    "from PSI_client import *\n",
    "\n",
    "alice = PSI_client(10000, \"127.0.0.1\", 10002)\n",
    "\n",
    "alice.prepare([1,3,5,7,9, 67,4,91,66,83,12,19,37,76,55])\n",
    "\n",
    "alice.request_intersect(\"127.0.0.1\", 10001)\n",
    "\n",
    "print(alice.intersection)"
   ]
  }
 ],
 "metadata": {
  "kernelspec": {
   "display_name": "Python 3",
   "language": "python",
   "name": "python3"
  },
  "language_info": {
   "codemirror_mode": {
    "name": "ipython",
    "version": 3
   },
   "file_extension": ".py",
   "mimetype": "text/x-python",
   "name": "python",
   "nbconvert_exporter": "python",
   "pygments_lexer": "ipython3",
   "version": "3.7.4"
  }
 },
 "nbformat": 4,
 "nbformat_minor": 2
}
