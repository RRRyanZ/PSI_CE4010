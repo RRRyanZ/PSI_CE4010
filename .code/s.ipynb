{
 "cells": [
  {
   "cell_type": "code",
   "execution_count": null,
   "metadata": {},
   "outputs": [],
   "source": [
    "from PSI_server import *\n",
    "\n",
    "#if setting a new server with env\n",
    "server = PSI_server(False, 64, 10002)\n",
    "server.listen()\n",
    "\n",
    "#if with env\n",
    "server = PSI_server(env, 64, 10002)\n",
    "server.listen()"
   ]
  }
 ],
 "metadata": {
  "kernelspec": {
   "display_name": "Python 3",
   "language": "python",
   "name": "python3"
  },
  "language_info": {
   "codemirror_mode": {
    "name": "ipython",
    "version": 3
   },
   "file_extension": ".py",
   "mimetype": "text/x-python",
   "name": "python",
   "nbconvert_exporter": "python",
   "pygments_lexer": "ipython3",
   "version": "3.7.4"
  }
 },
 "nbformat": 4,
 "nbformat_minor": 2
}
