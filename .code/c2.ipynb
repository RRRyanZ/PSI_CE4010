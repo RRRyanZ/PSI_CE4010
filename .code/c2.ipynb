{
 "cells": [
  {
   "cell_type": "code",
   "execution_count": 1,
   "metadata": {
    "scrolled": true
   },
   "outputs": [
    {
     "name": "stdout",
     "output_type": "stream",
     "text": [
      "[76, 91, 4, 3, 5, 9]\n"
     ]
    }
   ],
   "source": [
    "from PSI_client import *\n",
    "\n",
    "bob = PSI_client(10000, \"127.0.0.1\", 10002)\n",
    "\n",
    "bob.prepare([5,9,11,17,3,25,20,31,76,4,77,125,91,42,99])\n",
    "\n",
    "bob.listen(\"127.0.0.1\", 10001)\n",
    "\n",
    "print(bob.intersection)"
   ]
  }
 ],
 "metadata": {
  "kernelspec": {
   "display_name": "Python 3",
   "language": "python",
   "name": "python3"
  },
  "language_info": {
   "codemirror_mode": {
    "name": "ipython",
    "version": 3
   },
   "file_extension": ".py",
   "mimetype": "text/x-python",
   "name": "python",
   "nbconvert_exporter": "python",
   "pygments_lexer": "ipython3",
   "version": "3.7.4"
  }
 },
 "nbformat": 4,
 "nbformat_minor": 2
}
